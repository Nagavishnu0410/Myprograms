{
  "nbformat": 4,
  "nbformat_minor": 0,
  "metadata": {
    "colab": {
      "provenance": [],
      "authorship_tag": "ABX9TyMGKfCERP4Dyj0PI1I+7JDE",
      "include_colab_link": true
    },
    "kernelspec": {
      "name": "python3",
      "display_name": "Python 3"
    },
    "language_info": {
      "name": "python"
    }
  },
  "cells": [
    {
      "cell_type": "markdown",
      "metadata": {
        "id": "view-in-github",
        "colab_type": "text"
      },
      "source": [
        "<a href=\"https://colab.research.google.com/github/Nagavishnu0410/Myprograms/blob/main/Program_2.ipynb\" target=\"_parent\"><img src=\"https://colab.research.google.com/assets/colab-badge.svg\" alt=\"Open In Colab\"/></a>"
      ]
    },
    {
      "cell_type": "code",
      "execution_count": null,
      "metadata": {
        "id": "tbCSG0GepLB2"
      },
      "outputs": [],
      "source": []
    },
    {
      "cell_type": "markdown",
      "source": [
        "LIST METHODS\n"
      ],
      "metadata": {
        "id": "sd65Ojr5pdly"
      }
    },
    {
      "cell_type": "code",
      "source": [
        "# Creating a list\n",
        "my_list = [1, 2, 3, 4, 5]\n",
        "\n",
        "# Append: Adds an element at the end of the list\n",
        "my_list.append(6)\n",
        "print(\"After append:\", my_list)\n",
        "\n",
        "# Insert: Adds an element at the specified position\n",
        "my_list.insert(2, 10)\n",
        "print(\"After insert:\", my_list)\n",
        "\n",
        "# Remove: Removes the first item with the specified value\n",
        "my_list.remove(10)\n",
        "print(\"After remove:\", my_list)\n",
        "\n",
        "# Pop: Removes the element at the specified position (or the last element if no position is specified)\n",
        "popped_element = my_list.pop()\n",
        "print(\"After pop:\", my_list)\n",
        "print(\"Popped element:\", popped_element)\n",
        "\n",
        "# Clear: Removes all the elements from the list\n",
        "my_list.clear()\n",
        "print(\"After clear:\", my_list)\n",
        "\n",
        "# Extend: Adds the elements of a list (or any iterable) to the end of the current list\n",
        "my_list.extend([7, 8, 9])\n",
        "print(\"After extend:\", my_list)\n",
        "\n",
        "# Index: Returns the index of the first element with the specified value\n",
        "index_of_8 = my_list.index(8)\n",
        "print(\"Index of 8:\", index_of_8)\n",
        "\n",
        "# Count: Returns the number of elements with the specified value\n",
        "count_of_8 = my_list.count(8)\n",
        "print(\"Count of 8:\", count_of_8)\n",
        "\n",
        "# Sort: Sorts the list\n",
        "my_list.sort()\n",
        "print(\"After sort:\", my_list)\n",
        "\n",
        "# Reverse: Reverses the order of the list\n",
        "my_list.reverse()\n",
        "print(\"After reverse:\", my_list)\n",
        "\n",
        "# Copy: Returns a copy of the list\n",
        "copied_list = my_list.copy()\n",
        "print(\"Copied list:\", copied_list)\n"
      ],
      "metadata": {
        "id": "Y3CDH1hXpgWU"
      },
      "execution_count": null,
      "outputs": []
    }
  ]
}